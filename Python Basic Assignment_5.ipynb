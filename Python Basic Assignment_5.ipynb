{
 "cells": [
  {
   "cell_type": "raw",
   "id": "0a6fffd2",
   "metadata": {},
   "source": [
    "1. What does an empty dictionary's code look like?"
   ]
  },
  {
   "cell_type": "markdown",
   "id": "893716bd",
   "metadata": {},
   "source": [
    "# Answer :\n",
    "\n",
    "Two curly brackets: {}"
   ]
  },
  {
   "cell_type": "raw",
   "id": "9f089240",
   "metadata": {},
   "source": [
    "2. What is the value of a dictionary value with the key 'foo' and the value 42?"
   ]
  },
  {
   "cell_type": "markdown",
   "id": "eb285e03",
   "metadata": {},
   "source": [
    "# Answer :\n",
    "\n",
    "{'foo': 42}"
   ]
  },
  {
   "cell_type": "raw",
   "id": "e01842b9",
   "metadata": {},
   "source": [
    "3. What is the most significant distinction between a dictionary and a list?"
   ]
  },
  {
   "cell_type": "markdown",
   "id": "3c6b867e",
   "metadata": {},
   "source": [
    "# Answer :\n",
    "\n",
    "The items stored in a dictionary are unordered, while the items in a list are ordered.\n"
   ]
  },
  {
   "cell_type": "raw",
   "id": "1fb07e2c",
   "metadata": {},
   "source": [
    "4. What happens if you try to access spam['foo'] if spam is {'bar': 100}?"
   ]
  },
  {
   "cell_type": "markdown",
   "id": "d2e16a74",
   "metadata": {},
   "source": [
    "# Answer :\n",
    "\n",
    "You get a KeyError error.\n"
   ]
  },
  {
   "cell_type": "raw",
   "id": "0f17d5d8",
   "metadata": {},
   "source": [
    "5. If a dictionary is stored in spam, what is the difference between the expressions 'cat' in spam and\n",
    "'cat' in spam.keys()?"
   ]
  },
  {
   "cell_type": "markdown",
   "id": "b19533be",
   "metadata": {},
   "source": [
    "# Answer :\n",
    "\n",
    "There is no difference. The in operator checks whether a value exists as a key in the dictionary."
   ]
  },
  {
   "cell_type": "raw",
   "id": "bf0fdc80",
   "metadata": {},
   "source": [
    "6. If a dictionary is stored in spam, what is the difference between the expressions 'cat' in spam and\n",
    "'cat' in spam.values()?"
   ]
  },
  {
   "cell_type": "markdown",
   "id": "bb8780f5",
   "metadata": {},
   "source": [
    "# Answer :\n",
    "\n",
    "'cat' in spam checks whether there is a 'cat' key in the dictionary, while 'cat' in spam.values() checks whether there is a value 'cat' for one of the keys in spam."
   ]
  },
  {
   "cell_type": "raw",
   "id": "d1bf4d35",
   "metadata": {},
   "source": [
    "7. What is a shortcut for the following code?\n",
    "if 'color' not in spam:\n",
    "spam['color'] = 'black'"
   ]
  },
  {
   "cell_type": "markdown",
   "id": "de207487",
   "metadata": {},
   "source": [
    "# Answer :\n",
    "\n",
    "spam.setdefault('color', 'black')"
   ]
  },
  {
   "cell_type": "raw",
   "id": "47acff71",
   "metadata": {},
   "source": [
    "8. How do you \"pretty print\" dictionary values using which module and function?"
   ]
  },
  {
   "cell_type": "markdown",
   "id": "4f9e4e7f",
   "metadata": {},
   "source": [
    "# Answer :\n",
    "\n",
    "pprint.pprint()"
   ]
  }
 ],
 "metadata": {
  "kernelspec": {
   "display_name": "Python 3",
   "language": "python",
   "name": "python3"
  },
  "language_info": {
   "codemirror_mode": {
    "name": "ipython",
    "version": 3
   },
   "file_extension": ".py",
   "mimetype": "text/x-python",
   "name": "python",
   "nbconvert_exporter": "python",
   "pygments_lexer": "ipython3",
   "version": "3.8.8"
  }
 },
 "nbformat": 4,
 "nbformat_minor": 5
}
