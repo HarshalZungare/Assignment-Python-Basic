{
 "cells": [
  {
   "cell_type": "raw",
   "id": "21cfdbae",
   "metadata": {},
   "source": [
    "1.What are the two values of the Boolean data type? How do you write them?"
   ]
  },
  {
   "cell_type": "markdown",
   "id": "3f876a3b",
   "metadata": {},
   "source": [
    "# Answer :\n",
    "\n",
    "True and False, using capital T and F, with the rest of the word in lowercase"
   ]
  },
  {
   "cell_type": "raw",
   "id": "94d4bb0c",
   "metadata": {},
   "source": [
    "2. What are the three different types of Boolean operators?"
   ]
  },
  {
   "cell_type": "markdown",
   "id": "bc4dfc07",
   "metadata": {},
   "source": [
    "# Answer :\n",
    "\n",
    "The three different types of Boolean operators are And, or, and not."
   ]
  },
  {
   "cell_type": "raw",
   "id": "e18d5cb5",
   "metadata": {},
   "source": [
    "3. Make a list of each Boolean operator's truth tables (i.e. every possible combination of Boolean\n",
    "values for the operator and what it evaluate )."
   ]
  },
  {
   "cell_type": "markdown",
   "id": "beb6cc1a",
   "metadata": {},
   "source": [
    "# Answer :\n",
    "\n",
    "1) True and True is True.\n",
    "\n",
    "2) True and False is False.\n",
    "\n",
    "3) False and True is False.\n",
    "\n",
    "4) False and False is False.\n",
    "\n",
    "5) True or True is True.\n",
    "\n",
    "6) True or False is True.\n",
    "\n",
    "7) False or True is True.\n",
    "\n",
    "8) False or False is False.\n",
    "\n",
    "9) not True is False.\n",
    "\n",
    "10) not False is True."
   ]
  },
  {
   "cell_type": "raw",
   "id": "18795a7e",
   "metadata": {},
   "source": [
    "4. What are the values of the following expressions?\n",
    "(5 > 4) and (3 == 5)\n",
    "not (5 > 4)\n",
    "(5 > 4) or (3 == 5)\n",
    "not ((5 > 4) or (3 == 5))\n",
    "(True and True) and (True == False)\n",
    "(not False) or (not True)"
   ]
  },
  {
   "cell_type": "markdown",
   "id": "64b2e34e",
   "metadata": {},
   "source": [
    "# Answer :\n",
    "\n",
    "1) False\n",
    "\n",
    "2) False\n",
    "\n",
    "3) True\n",
    "\n",
    "4) False\n",
    "\n",
    "5) False\n",
    "\n",
    "6) True"
   ]
  },
  {
   "cell_type": "raw",
   "id": "c2fa49c8",
   "metadata": {},
   "source": [
    "5. What are the six comparison operators?"
   ]
  },
  {
   "cell_type": "markdown",
   "id": "b7e3f499",
   "metadata": {},
   "source": [
    "# Answer :\n",
    "\n",
    "==, !=, <, >, <=, and >="
   ]
  },
  {
   "cell_type": "raw",
   "id": "075db254",
   "metadata": {},
   "source": [
    "6. How do you tell the difference between the equal to and assignment operators? Describe a\n",
    "condition and when you would use one."
   ]
  },
  {
   "cell_type": "markdown",
   "id": "34efca38",
   "metadata": {},
   "source": [
    "# Answer :\n",
    "\n",
    "== is the equal to operator that compares two values and evaluates to a Boolean, while = is the assignment operator that stores a value in a variable.\n",
    "\n",
    "== can be use when we have to comapre two values like \n",
    "    example : 2 is equal to 3\n",
    "    so we can use 2 == 3\n",
    "  \n",
    "= is used to store value like\n",
    "    example : a = 10\n",
    "    The value 10 is stored in a \n"
   ]
  },
  {
   "cell_type": "raw",
   "id": "de6cd6f8",
   "metadata": {},
   "source": [
    "7. Identify the three blocks in this code:\n",
    "\n",
    "spam = 0\n",
    "if spam == 10:\n",
    "print('eggs')\n",
    "if spam > 5:\n",
    "print('bacon')\n",
    "else:\n",
    "print('ham')\n",
    "print('spam')\n",
    "print('spam')"
   ]
  },
  {
   "cell_type": "raw",
   "id": "1d334444",
   "metadata": {},
   "source": [
    "# Answer :\n",
    "\n",
    "The three blocks are everything inside the if statement and the lines print('bacon') and print('ham').\n",
    "\n",
    "print('eggs')\n",
    "\n",
    "if spam > 5:\n",
    "    print('bacon')\n",
    "\n",
    "else:\n",
    "    print('ham')\n",
    "    print('spam')"
   ]
  },
  {
   "cell_type": "raw",
   "id": "cfbf7b2a",
   "metadata": {},
   "source": [
    "8. Write code that prints Hello if 1 is stored in spam, prints Howdy if 2 is stored in spam, and prints\n",
    "Greetings! if anything else is stored in spam."
   ]
  },
  {
   "cell_type": "code",
   "execution_count": 6,
   "id": "396bde06",
   "metadata": {},
   "outputs": [
    {
     "name": "stdout",
     "output_type": "stream",
     "text": [
      "Enter the value: 1\n",
      "Hello\n"
     ]
    }
   ],
   "source": [
    "# Answer :\n",
    "\n",
    "spam = int(input(\"Enter the value: \"))\n",
    "\n",
    "if spam == 1:\n",
    "    print('Hello')\n",
    "elif spam == 2:\n",
    "    print('Howdy')\n",
    "else:\n",
    "    print('Greetings!')"
   ]
  },
  {
   "cell_type": "raw",
   "id": "2cb8d354",
   "metadata": {},
   "source": [
    "9.If your programme is stuck in an endless loop, what keys you’ll press?"
   ]
  },
  {
   "cell_type": "markdown",
   "id": "c3127c8f",
   "metadata": {},
   "source": [
    "# Answer :\n",
    "\n",
    "Press CTRL-C to stop a program stuck in an infinite loop."
   ]
  },
  {
   "cell_type": "raw",
   "id": "6918a153",
   "metadata": {},
   "source": [
    "10. How can you tell the difference between break and continue?"
   ]
  },
  {
   "cell_type": "markdown",
   "id": "26a21549",
   "metadata": {},
   "source": [
    "# Answer :\n",
    "\n",
    "The break statement will move the execution outside and just after a loop. The continue statement will move the execution to the start of the loop."
   ]
  },
  {
   "cell_type": "raw",
   "id": "7a91c84f",
   "metadata": {},
   "source": [
    "11. In a for loop, what is the difference between range(10), range(0, 10), and range(0, 10, 1)?"
   ]
  },
  {
   "cell_type": "markdown",
   "id": "d6b84e65",
   "metadata": {},
   "source": [
    "# Answer :\n",
    "\n",
    "They all do the same thing. The range(10) call ranges from 0 up to (but not including) 10, range(0, 10) explicitly tells the loop to start at 0, and range(0, 10, 1) explicitly tells the loop to increase the variable by 1 on each iteration."
   ]
  },
  {
   "cell_type": "raw",
   "id": "5bdee5c2",
   "metadata": {},
   "source": [
    "12. Write a short program that prints the numbers 1 to 10 using a for loop. Then write an equivalent\n",
    "program that prints the numbers 1 to 10 using a while loop."
   ]
  },
  {
   "cell_type": "code",
   "execution_count": 1,
   "id": "6c4d4871",
   "metadata": {},
   "outputs": [
    {
     "name": "stdout",
     "output_type": "stream",
     "text": [
      "1\n",
      "2\n",
      "3\n",
      "4\n",
      "5\n",
      "6\n",
      "7\n",
      "8\n",
      "9\n",
      "10\n",
      "1\n",
      "2\n",
      "3\n",
      "4\n",
      "5\n",
      "6\n",
      "7\n",
      "8\n",
      "9\n",
      "10\n"
     ]
    }
   ],
   "source": [
    "# Answer :\n",
    "\n",
    "for i in range(1,11):\n",
    "    print (i)\n",
    "\n",
    "i = 1\n",
    "while i <=10:\n",
    "        print(i)\n",
    "        i = i+1"
   ]
  },
  {
   "cell_type": "raw",
   "id": "91571628",
   "metadata": {},
   "source": [
    "13. If you had a function named bacon() inside a module named spam, how would you call it after\n",
    "importing spam?"
   ]
  },
  {
   "cell_type": "markdown",
   "id": "ec86250c",
   "metadata": {},
   "source": [
    "# Answer :\n",
    "\n",
    "This function can be called with spam.bacon()."
   ]
  }
 ],
 "metadata": {
  "kernelspec": {
   "display_name": "Python 3",
   "language": "python",
   "name": "python3"
  },
  "language_info": {
   "codemirror_mode": {
    "name": "ipython",
    "version": 3
   },
   "file_extension": ".py",
   "mimetype": "text/x-python",
   "name": "python",
   "nbconvert_exporter": "python",
   "pygments_lexer": "ipython3",
   "version": "3.8.8"
  }
 },
 "nbformat": 4,
 "nbformat_minor": 5
}
