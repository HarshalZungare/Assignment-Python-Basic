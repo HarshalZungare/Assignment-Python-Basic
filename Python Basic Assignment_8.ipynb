{
 "cells": [
  {
   "cell_type": "raw",
   "id": "21f4df12",
   "metadata": {},
   "source": [
    "1. Is the Python Standard Library included with PyInputPlus?"
   ]
  },
  {
   "cell_type": "markdown",
   "id": "96787847",
   "metadata": {},
   "source": [
    "# Answer :\n",
    "\n",
    "PyInputPlus is not a part of the Python Standard Library, we must install it separately using Pip."
   ]
  },
  {
   "cell_type": "raw",
   "id": "06845bf7",
   "metadata": {},
   "source": [
    "2. Why is PyInputPlus commonly imported with import pyinputplus as pypi?"
   ]
  },
  {
   "cell_type": "markdown",
   "id": "4fe9558e",
   "metadata": {},
   "source": [
    "# Answer :\n",
    "\n",
    "You can import the module with import pyinputplus as pyip so that you can enter a shorter name when calling the module’s functions"
   ]
  },
  {
   "cell_type": "raw",
   "id": "7458b90a",
   "metadata": {},
   "source": [
    "3. How do you distinguish between inputInt() and inputFloat()?"
   ]
  },
  {
   "cell_type": "markdown",
   "id": "d5f2dde4",
   "metadata": {},
   "source": [
    "# Answer :\n",
    "\n",
    "The difference is in the data-type when you use the first one the program expects an integer value as input but in the latter it expects a float value i.e number containing a decimal"
   ]
  },
  {
   "cell_type": "raw",
   "id": "07bbb177",
   "metadata": {},
   "source": [
    "4. Using PyInputPlus, how do you ensure that the user enters a whole number between 0 and 99?"
   ]
  },
  {
   "cell_type": "markdown",
   "id": "1373c386",
   "metadata": {},
   "source": [
    "# Answer :\n",
    "\n",
    "By using pyip.inputint(min=0, max=99)"
   ]
  },
  {
   "cell_type": "raw",
   "id": "eb0d073b",
   "metadata": {},
   "source": [
    "5. What is transferred to the keyword arguments allowRegexes and blockRegexes?"
   ]
  },
  {
   "cell_type": "markdown",
   "id": "4b8be365",
   "metadata": {},
   "source": [
    "# Answer :\n",
    "\n",
    "A list of regex strings that are either explicitly allowed or denied\n",
    "\n"
   ]
  },
  {
   "cell_type": "raw",
   "id": "b47477a2",
   "metadata": {},
   "source": [
    "6. If a blank input is entered three times, what does inputStr(limit=3) do?"
   ]
  },
  {
   "cell_type": "markdown",
   "id": "f063f98e",
   "metadata": {},
   "source": [
    "# Answer :\n",
    "\n",
    " The function will raise RetryLimitException."
   ]
  },
  {
   "cell_type": "raw",
   "id": "ce45251a",
   "metadata": {},
   "source": [
    "7. If blank input is entered three times, what does inputStr(limit=3, default='hello') do?"
   ]
  },
  {
   "cell_type": "markdown",
   "id": "da236b85",
   "metadata": {},
   "source": [
    "# Answer :\n",
    "\n",
    "The function returns the value 'hello'"
   ]
  },
  {
   "cell_type": "code",
   "execution_count": null,
   "id": "244c4850",
   "metadata": {},
   "outputs": [],
   "source": []
  }
 ],
 "metadata": {
  "kernelspec": {
   "display_name": "Python 3",
   "language": "python",
   "name": "python3"
  },
  "language_info": {
   "codemirror_mode": {
    "name": "ipython",
    "version": 3
   },
   "file_extension": ".py",
   "mimetype": "text/x-python",
   "name": "python",
   "nbconvert_exporter": "python",
   "pygments_lexer": "ipython3",
   "version": "3.8.8"
  }
 },
 "nbformat": 4,
 "nbformat_minor": 5
}
