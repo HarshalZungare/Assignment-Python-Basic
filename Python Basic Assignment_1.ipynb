{
 "cells": [
  {
   "cell_type": "raw",
   "id": "a4f520f4",
   "metadata": {},
   "source": [
    "# 1. In the below elements which of them are values or an expression? eg:- values can be integer or string and expressions will be mathematical operators.\n",
    "* \n",
    "'hello'\n",
    "-87.8\n",
    "- \n",
    "/ \n",
    "+\t\n",
    "6 \n"
   ]
  },
  {
   "cell_type": "markdown",
   "id": "3de515f7",
   "metadata": {},
   "source": [
    "# Answers: \n",
    "\n",
    "Values are : 'hello', -87.8, 6\n",
    "\n",
    "Expression is : *, -, /, +"
   ]
  },
  {
   "cell_type": "raw",
   "id": "725521e0",
   "metadata": {},
   "source": [
    "# 2. What is the difference between string and variable?"
   ]
  },
  {
   "cell_type": "markdown",
   "id": "c007d18d",
   "metadata": {},
   "source": [
    "# Answers: \n",
    "\n",
    "String : Strings in python are surrounded by either single quotation marks, or double quotation marks.\n",
    "        'hello' is the same as \"hello\".\n",
    "         You can display a string literal with the print() function:\n",
    "         Example :\n",
    "         print(\"Hello\")\n",
    "         print('Hello')\n",
    "         \n",
    "Variable : Variables are containers for storing data values.\n",
    "           Variable names are case-sensitive.\n",
    "           Example : \n",
    "           a = 4\n",
    "           A = \"Sally\"\n",
    "           A will not overwrite a\n",
    "\n",
    "           \n"
   ]
  },
  {
   "cell_type": "raw",
   "id": "b4f69695",
   "metadata": {},
   "source": [
    "3. Describe three different data types."
   ]
  },
  {
   "cell_type": "markdown",
   "id": "2b8c31ae",
   "metadata": {},
   "source": [
    "# Answers: \n",
    "\n",
    "The data types defined in Python are given below.\n",
    "\n",
    "1. Numbers\n",
    "2. Sequence Type\n",
    "3. Boolean\n",
    "4. Set\n",
    "5. Dictionary\n",
    "\n",
    "    Numbers : Python supports three type of numeric data.\n",
    "              A. Int - Integer value can be any length such as integers 10, 2, 29, -20, -150 etc. \n",
    "              B. Float - Float is used to store floating-point numbers like 1.9, 9.902, 15.2, etc. \n",
    "              C. complex - A complex number contains an ordered pair, i.e., x + iy where x and y denote the real and imaginary parts, respectively. The complex numbers like 2.14j, 2.0 + 2.3j, etc.\n",
    "          \n",
    "    String : The string can be defined as the sequence of characters represented in the quotation marks. In Python, we can use single, double, or triple quotes to define a string.\n",
    "    \n",
    "    Boolean : Boolean type provides two built-in values, True and False. These values are used to determine the given statement true or false. It denotes by the class bool. True can be represented by any non-zero value or 'T' whereas false can be represented by the 0 or 'F'."
   ]
  },
  {
   "cell_type": "raw",
   "id": "9a1e4362",
   "metadata": {},
   "source": [
    "4. What is an expression made up of? What do all expressions do?"
   ]
  },
  {
   "cell_type": "markdown",
   "id": "9e4d5cad",
   "metadata": {},
   "source": [
    "# Answers: \n",
    "\n",
    "An expression is a combination of values and operators. All expressions evaluate (that is, reduce) to a single value.\n",
    "\n",
    "An expression is a combination of operators and operands that is interpreted to produce some other value. In any programming language, an expression is evaluated as per the precedence of its operators. So that if there is more than one operator in an expression, their precedence decides which operation will be performed first.\n",
    "\n",
    "Expressions are representations of value. They are different from statement in the fact that statements do something while expressions are representation of value. For example any string is also an expressions since it represents the value of the string as well.\n",
    "Python has some advanced constructs through which we can represent values and hence these constructs are also called expressions."
   ]
  },
  {
   "cell_type": "raw",
   "id": "4c91acef",
   "metadata": {},
   "source": [
    "5. This assignment statements, like spam = 10. What is the difference between an expression and a statement?"
   ]
  },
  {
   "cell_type": "markdown",
   "id": "61cd1528",
   "metadata": {},
   "source": [
    "# Answers: \n",
    "\n",
    "An expression evaluates to a single value. A statement does not."
   ]
  },
  {
   "cell_type": "raw",
   "id": "4bb6f3f2",
   "metadata": {},
   "source": [
    "6. After running the following code, what does the variable bacon contain?\n",
    "bacon = 22\n",
    "bacon + 1\n"
   ]
  },
  {
   "cell_type": "markdown",
   "id": "08a131ec",
   "metadata": {},
   "source": [
    "# Answers:\n",
    "\n",
    "The bacon variable is set to 20. The bacon + 1 expression does not reassign the value in bacon (that would need an assignment statement: bacon = bacon + 1)"
   ]
  },
  {
   "cell_type": "raw",
   "id": "04ef714c",
   "metadata": {},
   "source": [
    "# 7. What should the values of the following two terms be?\n",
    "'spam' + 'spamspam'\n",
    "'spam' * 3\n"
   ]
  },
  {
   "cell_type": "markdown",
   "id": "00ed853e",
   "metadata": {},
   "source": [
    "# Answers:\n",
    "\n",
    "Both expressions evaluate to the string 'spamspamspam'"
   ]
  },
  {
   "cell_type": "raw",
   "id": "1c613568",
   "metadata": {},
   "source": [
    "8. Why is eggs a valid variable name while 100 is invalid?"
   ]
  },
  {
   "cell_type": "markdown",
   "id": "c615815a",
   "metadata": {},
   "source": [
    "# Answers:\n",
    "\n",
    "Variable names cannot begin with a number."
   ]
  },
  {
   "cell_type": "raw",
   "id": "3aa9003e",
   "metadata": {},
   "source": [
    "9. What three functions can be used to get the integer, floating-point number, or string version of a value?"
   ]
  },
  {
   "cell_type": "markdown",
   "id": "37eb68fc",
   "metadata": {},
   "source": [
    "# Answers:\n",
    "\n",
    "The int(), float(), and str() functions will evaluate to the integer, floating-point number, and string versions of the value passed to them."
   ]
  },
  {
   "cell_type": "raw",
   "id": "73528cc7",
   "metadata": {},
   "source": [
    "10. Why does this expression cause an error? How can you fix it?\n",
    "'I have eaten ' + 99 + ' burritos.'\n"
   ]
  },
  {
   "cell_type": "markdown",
   "id": "325338b3",
   "metadata": {},
   "source": [
    "# Answers:\n",
    "\n",
    "The expression causes an error because 99 is an integer, and only strings can be concatenated to other strings with the + operator. The correct way is I have eaten ' + str(99) + ' burritos.'."
   ]
  },
  {
   "cell_type": "code",
   "execution_count": null,
   "id": "d1575601",
   "metadata": {},
   "outputs": [],
   "source": []
  }
 ],
 "metadata": {
  "kernelspec": {
   "display_name": "Python 3",
   "language": "python",
   "name": "python3"
  },
  "language_info": {
   "codemirror_mode": {
    "name": "ipython",
    "version": 3
   },
   "file_extension": ".py",
   "mimetype": "text/x-python",
   "name": "python",
   "nbconvert_exporter": "python",
   "pygments_lexer": "ipython3",
   "version": "3.8.8"
  }
 },
 "nbformat": 4,
 "nbformat_minor": 5
}
