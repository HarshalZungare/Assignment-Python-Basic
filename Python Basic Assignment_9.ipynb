{
 "cells": [
  {
   "cell_type": "raw",
   "id": "1f4a247a",
   "metadata": {},
   "source": [
    "1. To what does a relative path refer?"
   ]
  },
  {
   "cell_type": "markdown",
   "id": "efa42fe9",
   "metadata": {},
   "source": [
    "# Answer :\n",
    "\n",
    "Relative paths are relative to the current working directory\n",
    "\n"
   ]
  },
  {
   "cell_type": "raw",
   "id": "63f919e0",
   "metadata": {},
   "source": [
    "2. What does an absolute path start with your operating system?"
   ]
  },
  {
   "cell_type": "markdown",
   "id": "71958207",
   "metadata": {},
   "source": [
    "# Answer :\n",
    "\n",
    "Absolute paths start with the root folder, such as / or C:\\.\n",
    "\n"
   ]
  },
  {
   "cell_type": "raw",
   "id": "58f88120",
   "metadata": {},
   "source": [
    "3. What do the functions os.getcwd() and os.chdir() do?"
   ]
  },
  {
   "cell_type": "markdown",
   "id": "da87e428",
   "metadata": {},
   "source": [
    "# Answer :\n",
    "\n",
    "The os.getcwd() function returns the current working directory. The os.chdir() function changes the current working directory"
   ]
  },
  {
   "cell_type": "raw",
   "id": "f81d02a2",
   "metadata": {},
   "source": [
    "4. What are the . and .. folders?"
   ]
  },
  {
   "cell_type": "markdown",
   "id": "d9951447",
   "metadata": {},
   "source": [
    "# Answer :\n",
    "\n",
    "The . folder is the current folder, and .. is the parent folder\n",
    "\n"
   ]
  },
  {
   "cell_type": "raw",
   "id": "1a359adc",
   "metadata": {},
   "source": [
    "5. In C:\\bacon\\eggs\\spam.txt, which part is the dir name, and which part is the base name?"
   ]
  },
  {
   "cell_type": "markdown",
   "id": "44a26137",
   "metadata": {},
   "source": [
    "# Answer :\n",
    "\n",
    "C:\\bacon\\eggs is the dir name, while spam.txt is the base name."
   ]
  },
  {
   "cell_type": "raw",
   "id": "5d8ced2d",
   "metadata": {},
   "source": [
    "6. What are the three “mode” arguments that can be passed to the open() function?"
   ]
  },
  {
   "cell_type": "markdown",
   "id": "f85d2076",
   "metadata": {},
   "source": [
    "# Answer :\n",
    "\n",
    "The string 'r' for read mode, 'w' for write mode, and 'a' for append mode\n",
    "\n"
   ]
  },
  {
   "cell_type": "raw",
   "id": "be2ecd70",
   "metadata": {},
   "source": [
    "7. What happens if an existing file is opened in write mode?"
   ]
  },
  {
   "cell_type": "markdown",
   "id": "1150ad4d",
   "metadata": {},
   "source": [
    "# Answer :\n",
    "\n",
    "An existing file opened in write mode is erased and completely overwritten\n",
    "\n"
   ]
  },
  {
   "cell_type": "raw",
   "id": "16ed3960",
   "metadata": {},
   "source": [
    "8. How do you tell the difference between read() and readlines()?"
   ]
  },
  {
   "cell_type": "markdown",
   "id": "850d54f9",
   "metadata": {},
   "source": [
    "# Answer :\n",
    "\n",
    "The read() method returns the file’s entire contents as a single string value. The readlines() method returns a list of strings, where each string is a line from the file’s contents.\n",
    "\n"
   ]
  },
  {
   "cell_type": "raw",
   "id": "4cf1d380",
   "metadata": {},
   "source": [
    "9. What data structure does a shelf value resemble?"
   ]
  },
  {
   "cell_type": "markdown",
   "id": "ccba5859",
   "metadata": {},
   "source": [
    "# Answer :\n",
    "\n",
    "A shelf value resembles a dictionary value; it has keys and values, along with keys() and values() methods that work similarly to the dictionary methods of the same names\n",
    "\n"
   ]
  }
 ],
 "metadata": {
  "kernelspec": {
   "display_name": "Python 3",
   "language": "python",
   "name": "python3"
  },
  "language_info": {
   "codemirror_mode": {
    "name": "ipython",
    "version": 3
   },
   "file_extension": ".py",
   "mimetype": "text/x-python",
   "name": "python",
   "nbconvert_exporter": "python",
   "pygments_lexer": "ipython3",
   "version": "3.8.8"
  }
 },
 "nbformat": 4,
 "nbformat_minor": 5
}
